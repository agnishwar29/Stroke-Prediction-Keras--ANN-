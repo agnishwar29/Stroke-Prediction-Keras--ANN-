{
 "cells": [
  {
   "cell_type": "code",
   "execution_count": 27,
   "id": "1eed3ea1",
   "metadata": {},
   "outputs": [],
   "source": [
    "import pandas as pd"
   ]
  },
  {
   "cell_type": "code",
   "execution_count": 28,
   "id": "0ba6de00",
   "metadata": {},
   "outputs": [],
   "source": [
    "df = pd.read_csv(\"healthcare-dataset-stroke-data.csv\")"
   ]
  },
  {
   "cell_type": "code",
   "execution_count": 29,
   "id": "544c5e2b",
   "metadata": {},
   "outputs": [
    {
     "data": {
      "text/html": [
       "<div>\n",
       "<style scoped>\n",
       "    .dataframe tbody tr th:only-of-type {\n",
       "        vertical-align: middle;\n",
       "    }\n",
       "\n",
       "    .dataframe tbody tr th {\n",
       "        vertical-align: top;\n",
       "    }\n",
       "\n",
       "    .dataframe thead th {\n",
       "        text-align: right;\n",
       "    }\n",
       "</style>\n",
       "<table border=\"1\" class=\"dataframe\">\n",
       "  <thead>\n",
       "    <tr style=\"text-align: right;\">\n",
       "      <th></th>\n",
       "      <th>id</th>\n",
       "      <th>gender</th>\n",
       "      <th>age</th>\n",
       "      <th>hypertension</th>\n",
       "      <th>heart_disease</th>\n",
       "      <th>ever_married</th>\n",
       "      <th>work_type</th>\n",
       "      <th>Residence_type</th>\n",
       "      <th>avg_glucose_level</th>\n",
       "      <th>bmi</th>\n",
       "      <th>smoking_status</th>\n",
       "      <th>stroke</th>\n",
       "    </tr>\n",
       "  </thead>\n",
       "  <tbody>\n",
       "    <tr>\n",
       "      <th>0</th>\n",
       "      <td>9046</td>\n",
       "      <td>Male</td>\n",
       "      <td>67.0</td>\n",
       "      <td>0</td>\n",
       "      <td>1</td>\n",
       "      <td>Yes</td>\n",
       "      <td>Private</td>\n",
       "      <td>Urban</td>\n",
       "      <td>228.69</td>\n",
       "      <td>36.6</td>\n",
       "      <td>formerly smoked</td>\n",
       "      <td>1</td>\n",
       "    </tr>\n",
       "    <tr>\n",
       "      <th>1</th>\n",
       "      <td>51676</td>\n",
       "      <td>Female</td>\n",
       "      <td>61.0</td>\n",
       "      <td>0</td>\n",
       "      <td>0</td>\n",
       "      <td>Yes</td>\n",
       "      <td>Self-employed</td>\n",
       "      <td>Rural</td>\n",
       "      <td>202.21</td>\n",
       "      <td>NaN</td>\n",
       "      <td>never smoked</td>\n",
       "      <td>1</td>\n",
       "    </tr>\n",
       "    <tr>\n",
       "      <th>2</th>\n",
       "      <td>31112</td>\n",
       "      <td>Male</td>\n",
       "      <td>80.0</td>\n",
       "      <td>0</td>\n",
       "      <td>1</td>\n",
       "      <td>Yes</td>\n",
       "      <td>Private</td>\n",
       "      <td>Rural</td>\n",
       "      <td>105.92</td>\n",
       "      <td>32.5</td>\n",
       "      <td>never smoked</td>\n",
       "      <td>1</td>\n",
       "    </tr>\n",
       "    <tr>\n",
       "      <th>3</th>\n",
       "      <td>60182</td>\n",
       "      <td>Female</td>\n",
       "      <td>49.0</td>\n",
       "      <td>0</td>\n",
       "      <td>0</td>\n",
       "      <td>Yes</td>\n",
       "      <td>Private</td>\n",
       "      <td>Urban</td>\n",
       "      <td>171.23</td>\n",
       "      <td>34.4</td>\n",
       "      <td>smokes</td>\n",
       "      <td>1</td>\n",
       "    </tr>\n",
       "    <tr>\n",
       "      <th>4</th>\n",
       "      <td>1665</td>\n",
       "      <td>Female</td>\n",
       "      <td>79.0</td>\n",
       "      <td>1</td>\n",
       "      <td>0</td>\n",
       "      <td>Yes</td>\n",
       "      <td>Self-employed</td>\n",
       "      <td>Rural</td>\n",
       "      <td>174.12</td>\n",
       "      <td>24.0</td>\n",
       "      <td>never smoked</td>\n",
       "      <td>1</td>\n",
       "    </tr>\n",
       "  </tbody>\n",
       "</table>\n",
       "</div>"
      ],
      "text/plain": [
       "      id  gender   age  hypertension  heart_disease ever_married  \\\n",
       "0   9046    Male  67.0             0              1          Yes   \n",
       "1  51676  Female  61.0             0              0          Yes   \n",
       "2  31112    Male  80.0             0              1          Yes   \n",
       "3  60182  Female  49.0             0              0          Yes   \n",
       "4   1665  Female  79.0             1              0          Yes   \n",
       "\n",
       "       work_type Residence_type  avg_glucose_level   bmi   smoking_status  \\\n",
       "0        Private          Urban             228.69  36.6  formerly smoked   \n",
       "1  Self-employed          Rural             202.21   NaN     never smoked   \n",
       "2        Private          Rural             105.92  32.5     never smoked   \n",
       "3        Private          Urban             171.23  34.4           smokes   \n",
       "4  Self-employed          Rural             174.12  24.0     never smoked   \n",
       "\n",
       "   stroke  \n",
       "0       1  \n",
       "1       1  \n",
       "2       1  \n",
       "3       1  \n",
       "4       1  "
      ]
     },
     "execution_count": 29,
     "metadata": {},
     "output_type": "execute_result"
    }
   ],
   "source": [
    "df.head()"
   ]
  },
  {
   "cell_type": "code",
   "execution_count": 30,
   "id": "bceea2e6",
   "metadata": {},
   "outputs": [],
   "source": [
    "df.drop('id', axis='columns', inplace=True)"
   ]
  },
  {
   "cell_type": "code",
   "execution_count": 31,
   "id": "8ac5f8ef",
   "metadata": {},
   "outputs": [
    {
     "data": {
      "text/html": [
       "<div>\n",
       "<style scoped>\n",
       "    .dataframe tbody tr th:only-of-type {\n",
       "        vertical-align: middle;\n",
       "    }\n",
       "\n",
       "    .dataframe tbody tr th {\n",
       "        vertical-align: top;\n",
       "    }\n",
       "\n",
       "    .dataframe thead th {\n",
       "        text-align: right;\n",
       "    }\n",
       "</style>\n",
       "<table border=\"1\" class=\"dataframe\">\n",
       "  <thead>\n",
       "    <tr style=\"text-align: right;\">\n",
       "      <th></th>\n",
       "      <th>age</th>\n",
       "      <th>hypertension</th>\n",
       "      <th>heart_disease</th>\n",
       "      <th>avg_glucose_level</th>\n",
       "      <th>bmi</th>\n",
       "      <th>stroke</th>\n",
       "    </tr>\n",
       "  </thead>\n",
       "  <tbody>\n",
       "    <tr>\n",
       "      <th>count</th>\n",
       "      <td>5110.000000</td>\n",
       "      <td>5110.000000</td>\n",
       "      <td>5110.000000</td>\n",
       "      <td>5110.000000</td>\n",
       "      <td>4909.000000</td>\n",
       "      <td>5110.000000</td>\n",
       "    </tr>\n",
       "    <tr>\n",
       "      <th>mean</th>\n",
       "      <td>43.226614</td>\n",
       "      <td>0.097456</td>\n",
       "      <td>0.054012</td>\n",
       "      <td>106.147677</td>\n",
       "      <td>28.893237</td>\n",
       "      <td>0.048728</td>\n",
       "    </tr>\n",
       "    <tr>\n",
       "      <th>std</th>\n",
       "      <td>22.612647</td>\n",
       "      <td>0.296607</td>\n",
       "      <td>0.226063</td>\n",
       "      <td>45.283560</td>\n",
       "      <td>7.854067</td>\n",
       "      <td>0.215320</td>\n",
       "    </tr>\n",
       "    <tr>\n",
       "      <th>min</th>\n",
       "      <td>0.080000</td>\n",
       "      <td>0.000000</td>\n",
       "      <td>0.000000</td>\n",
       "      <td>55.120000</td>\n",
       "      <td>10.300000</td>\n",
       "      <td>0.000000</td>\n",
       "    </tr>\n",
       "    <tr>\n",
       "      <th>25%</th>\n",
       "      <td>25.000000</td>\n",
       "      <td>0.000000</td>\n",
       "      <td>0.000000</td>\n",
       "      <td>77.245000</td>\n",
       "      <td>23.500000</td>\n",
       "      <td>0.000000</td>\n",
       "    </tr>\n",
       "    <tr>\n",
       "      <th>50%</th>\n",
       "      <td>45.000000</td>\n",
       "      <td>0.000000</td>\n",
       "      <td>0.000000</td>\n",
       "      <td>91.885000</td>\n",
       "      <td>28.100000</td>\n",
       "      <td>0.000000</td>\n",
       "    </tr>\n",
       "    <tr>\n",
       "      <th>75%</th>\n",
       "      <td>61.000000</td>\n",
       "      <td>0.000000</td>\n",
       "      <td>0.000000</td>\n",
       "      <td>114.090000</td>\n",
       "      <td>33.100000</td>\n",
       "      <td>0.000000</td>\n",
       "    </tr>\n",
       "    <tr>\n",
       "      <th>max</th>\n",
       "      <td>82.000000</td>\n",
       "      <td>1.000000</td>\n",
       "      <td>1.000000</td>\n",
       "      <td>271.740000</td>\n",
       "      <td>97.600000</td>\n",
       "      <td>1.000000</td>\n",
       "    </tr>\n",
       "  </tbody>\n",
       "</table>\n",
       "</div>"
      ],
      "text/plain": [
       "               age  hypertension  heart_disease  avg_glucose_level  \\\n",
       "count  5110.000000   5110.000000    5110.000000        5110.000000   \n",
       "mean     43.226614      0.097456       0.054012         106.147677   \n",
       "std      22.612647      0.296607       0.226063          45.283560   \n",
       "min       0.080000      0.000000       0.000000          55.120000   \n",
       "25%      25.000000      0.000000       0.000000          77.245000   \n",
       "50%      45.000000      0.000000       0.000000          91.885000   \n",
       "75%      61.000000      0.000000       0.000000         114.090000   \n",
       "max      82.000000      1.000000       1.000000         271.740000   \n",
       "\n",
       "               bmi       stroke  \n",
       "count  4909.000000  5110.000000  \n",
       "mean     28.893237     0.048728  \n",
       "std       7.854067     0.215320  \n",
       "min      10.300000     0.000000  \n",
       "25%      23.500000     0.000000  \n",
       "50%      28.100000     0.000000  \n",
       "75%      33.100000     0.000000  \n",
       "max      97.600000     1.000000  "
      ]
     },
     "execution_count": 31,
     "metadata": {},
     "output_type": "execute_result"
    }
   ],
   "source": [
    "df.describe()"
   ]
  },
  {
   "cell_type": "code",
   "execution_count": 32,
   "id": "0d756fd4",
   "metadata": {},
   "outputs": [
    {
     "data": {
      "text/plain": [
       "gender                 0\n",
       "age                    0\n",
       "hypertension           0\n",
       "heart_disease          0\n",
       "ever_married           0\n",
       "work_type              0\n",
       "Residence_type         0\n",
       "avg_glucose_level      0\n",
       "bmi                  201\n",
       "smoking_status         0\n",
       "stroke                 0\n",
       "dtype: int64"
      ]
     },
     "execution_count": 32,
     "metadata": {},
     "output_type": "execute_result"
    }
   ],
   "source": [
    "df.isnull().sum()"
   ]
  },
  {
   "cell_type": "code",
   "execution_count": 33,
   "id": "aaf0d187",
   "metadata": {},
   "outputs": [
    {
     "data": {
      "text/plain": [
       "28.893236911794673"
      ]
     },
     "execution_count": 33,
     "metadata": {},
     "output_type": "execute_result"
    }
   ],
   "source": [
    "import numpy as np\n",
    "bmi_mean = np.mean(df.bmi)\n",
    "bmi_mean"
   ]
  },
  {
   "cell_type": "code",
   "execution_count": 34,
   "id": "b3cd46d9",
   "metadata": {},
   "outputs": [
    {
     "data": {
      "text/plain": [
       "gender               0\n",
       "age                  0\n",
       "hypertension         0\n",
       "heart_disease        0\n",
       "ever_married         0\n",
       "work_type            0\n",
       "Residence_type       0\n",
       "avg_glucose_level    0\n",
       "bmi                  0\n",
       "smoking_status       0\n",
       "stroke               0\n",
       "dtype: int64"
      ]
     },
     "execution_count": 34,
     "metadata": {},
     "output_type": "execute_result"
    }
   ],
   "source": [
    "df.fillna(bmi_mean, inplace=True)\n",
    "df.isnull().sum()"
   ]
  },
  {
   "cell_type": "code",
   "execution_count": 35,
   "id": "a01d2a51",
   "metadata": {},
   "outputs": [
    {
     "data": {
      "text/plain": [
       "gender                object\n",
       "age                  float64\n",
       "hypertension           int64\n",
       "heart_disease          int64\n",
       "ever_married          object\n",
       "work_type             object\n",
       "Residence_type        object\n",
       "avg_glucose_level    float64\n",
       "bmi                  float64\n",
       "smoking_status        object\n",
       "stroke                 int64\n",
       "dtype: object"
      ]
     },
     "execution_count": 35,
     "metadata": {},
     "output_type": "execute_result"
    }
   ],
   "source": [
    "df.dtypes"
   ]
  },
  {
   "cell_type": "code",
   "execution_count": 36,
   "id": "32b518bd",
   "metadata": {},
   "outputs": [
    {
     "data": {
      "text/plain": [
       "array(['Male', 'Female', 'Other'], dtype=object)"
      ]
     },
     "execution_count": 36,
     "metadata": {},
     "output_type": "execute_result"
    }
   ],
   "source": [
    "df.gender.unique()"
   ]
  },
  {
   "cell_type": "code",
   "execution_count": 37,
   "id": "3edfe693",
   "metadata": {},
   "outputs": [
    {
     "data": {
      "text/plain": [
       "array(['Yes', 'No'], dtype=object)"
      ]
     },
     "execution_count": 37,
     "metadata": {},
     "output_type": "execute_result"
    }
   ],
   "source": [
    "df.ever_married.unique()"
   ]
  },
  {
   "cell_type": "code",
   "execution_count": 38,
   "id": "89ca98e8",
   "metadata": {},
   "outputs": [
    {
     "data": {
      "text/plain": [
       "array(['Private', 'Self-employed', 'Govt_job', 'children', 'Never_worked'],\n",
       "      dtype=object)"
      ]
     },
     "execution_count": 38,
     "metadata": {},
     "output_type": "execute_result"
    }
   ],
   "source": [
    "df.work_type.unique()"
   ]
  },
  {
   "cell_type": "code",
   "execution_count": 39,
   "id": "b2ab0237",
   "metadata": {},
   "outputs": [
    {
     "data": {
      "text/plain": [
       "array(['Urban', 'Rural'], dtype=object)"
      ]
     },
     "execution_count": 39,
     "metadata": {},
     "output_type": "execute_result"
    }
   ],
   "source": [
    "df.Residence_type.unique()"
   ]
  },
  {
   "cell_type": "code",
   "execution_count": 40,
   "id": "f0162d7e",
   "metadata": {},
   "outputs": [
    {
     "data": {
      "text/plain": [
       "array(['formerly smoked', 'never smoked', 'smokes', 'Unknown'],\n",
       "      dtype=object)"
      ]
     },
     "execution_count": 40,
     "metadata": {},
     "output_type": "execute_result"
    }
   ],
   "source": [
    "df.smoking_status.unique()"
   ]
  },
  {
   "cell_type": "code",
   "execution_count": 41,
   "id": "5f2c33c5",
   "metadata": {},
   "outputs": [],
   "source": [
    "from sklearn.preprocessing import LabelEncoder\n",
    "df1=df.apply(LabelEncoder().fit_transform)"
   ]
  },
  {
   "cell_type": "code",
   "execution_count": 42,
   "id": "b39a36c3",
   "metadata": {},
   "outputs": [
    {
     "data": {
      "text/html": [
       "<div>\n",
       "<style scoped>\n",
       "    .dataframe tbody tr th:only-of-type {\n",
       "        vertical-align: middle;\n",
       "    }\n",
       "\n",
       "    .dataframe tbody tr th {\n",
       "        vertical-align: top;\n",
       "    }\n",
       "\n",
       "    .dataframe thead th {\n",
       "        text-align: right;\n",
       "    }\n",
       "</style>\n",
       "<table border=\"1\" class=\"dataframe\">\n",
       "  <thead>\n",
       "    <tr style=\"text-align: right;\">\n",
       "      <th></th>\n",
       "      <th>gender</th>\n",
       "      <th>age</th>\n",
       "      <th>hypertension</th>\n",
       "      <th>heart_disease</th>\n",
       "      <th>ever_married</th>\n",
       "      <th>work_type</th>\n",
       "      <th>Residence_type</th>\n",
       "      <th>avg_glucose_level</th>\n",
       "      <th>bmi</th>\n",
       "      <th>smoking_status</th>\n",
       "      <th>stroke</th>\n",
       "    </tr>\n",
       "  </thead>\n",
       "  <tbody>\n",
       "    <tr>\n",
       "      <th>0</th>\n",
       "      <td>1</td>\n",
       "      <td>88</td>\n",
       "      <td>0</td>\n",
       "      <td>1</td>\n",
       "      <td>1</td>\n",
       "      <td>2</td>\n",
       "      <td>1</td>\n",
       "      <td>3850</td>\n",
       "      <td>240</td>\n",
       "      <td>1</td>\n",
       "      <td>1</td>\n",
       "    </tr>\n",
       "    <tr>\n",
       "      <th>1</th>\n",
       "      <td>0</td>\n",
       "      <td>82</td>\n",
       "      <td>0</td>\n",
       "      <td>0</td>\n",
       "      <td>1</td>\n",
       "      <td>3</td>\n",
       "      <td>0</td>\n",
       "      <td>3588</td>\n",
       "      <td>162</td>\n",
       "      <td>2</td>\n",
       "      <td>1</td>\n",
       "    </tr>\n",
       "    <tr>\n",
       "      <th>2</th>\n",
       "      <td>1</td>\n",
       "      <td>101</td>\n",
       "      <td>0</td>\n",
       "      <td>1</td>\n",
       "      <td>1</td>\n",
       "      <td>2</td>\n",
       "      <td>0</td>\n",
       "      <td>2483</td>\n",
       "      <td>199</td>\n",
       "      <td>2</td>\n",
       "      <td>1</td>\n",
       "    </tr>\n",
       "    <tr>\n",
       "      <th>3</th>\n",
       "      <td>0</td>\n",
       "      <td>70</td>\n",
       "      <td>0</td>\n",
       "      <td>0</td>\n",
       "      <td>1</td>\n",
       "      <td>2</td>\n",
       "      <td>1</td>\n",
       "      <td>3385</td>\n",
       "      <td>218</td>\n",
       "      <td>3</td>\n",
       "      <td>1</td>\n",
       "    </tr>\n",
       "    <tr>\n",
       "      <th>4</th>\n",
       "      <td>0</td>\n",
       "      <td>100</td>\n",
       "      <td>1</td>\n",
       "      <td>0</td>\n",
       "      <td>1</td>\n",
       "      <td>3</td>\n",
       "      <td>0</td>\n",
       "      <td>3394</td>\n",
       "      <td>113</td>\n",
       "      <td>2</td>\n",
       "      <td>1</td>\n",
       "    </tr>\n",
       "  </tbody>\n",
       "</table>\n",
       "</div>"
      ],
      "text/plain": [
       "   gender  age  hypertension  heart_disease  ever_married  work_type  \\\n",
       "0       1   88             0              1             1          2   \n",
       "1       0   82             0              0             1          3   \n",
       "2       1  101             0              1             1          2   \n",
       "3       0   70             0              0             1          2   \n",
       "4       0  100             1              0             1          3   \n",
       "\n",
       "   Residence_type  avg_glucose_level  bmi  smoking_status  stroke  \n",
       "0               1               3850  240               1       1  \n",
       "1               0               3588  162               2       1  \n",
       "2               0               2483  199               2       1  \n",
       "3               1               3385  218               3       1  \n",
       "4               0               3394  113               2       1  "
      ]
     },
     "execution_count": 42,
     "metadata": {},
     "output_type": "execute_result"
    }
   ],
   "source": [
    "df1.head()"
   ]
  },
  {
   "cell_type": "code",
   "execution_count": 43,
   "id": "67627e34",
   "metadata": {},
   "outputs": [],
   "source": [
    "from sklearn.preprocessing import MinMaxScaler\n",
    "scaler = MinMaxScaler()\n",
    "items = ['age','avg_glucose_level','bmi']\n",
    "df1[items] = scaler.fit_transform(df[items])"
   ]
  },
  {
   "cell_type": "code",
   "execution_count": 44,
   "id": "6e2c1c4a",
   "metadata": {},
   "outputs": [
    {
     "data": {
      "text/html": [
       "<div>\n",
       "<style scoped>\n",
       "    .dataframe tbody tr th:only-of-type {\n",
       "        vertical-align: middle;\n",
       "    }\n",
       "\n",
       "    .dataframe tbody tr th {\n",
       "        vertical-align: top;\n",
       "    }\n",
       "\n",
       "    .dataframe thead th {\n",
       "        text-align: right;\n",
       "    }\n",
       "</style>\n",
       "<table border=\"1\" class=\"dataframe\">\n",
       "  <thead>\n",
       "    <tr style=\"text-align: right;\">\n",
       "      <th></th>\n",
       "      <th>gender</th>\n",
       "      <th>age</th>\n",
       "      <th>hypertension</th>\n",
       "      <th>heart_disease</th>\n",
       "      <th>ever_married</th>\n",
       "      <th>work_type</th>\n",
       "      <th>Residence_type</th>\n",
       "      <th>avg_glucose_level</th>\n",
       "      <th>bmi</th>\n",
       "      <th>smoking_status</th>\n",
       "      <th>stroke</th>\n",
       "    </tr>\n",
       "  </thead>\n",
       "  <tbody>\n",
       "    <tr>\n",
       "      <th>1296</th>\n",
       "      <td>1</td>\n",
       "      <td>0.536133</td>\n",
       "      <td>0</td>\n",
       "      <td>0</td>\n",
       "      <td>1</td>\n",
       "      <td>2</td>\n",
       "      <td>0</td>\n",
       "      <td>0.294940</td>\n",
       "      <td>0.219931</td>\n",
       "      <td>2</td>\n",
       "      <td>0</td>\n",
       "    </tr>\n",
       "    <tr>\n",
       "      <th>2465</th>\n",
       "      <td>0</td>\n",
       "      <td>0.316406</td>\n",
       "      <td>0</td>\n",
       "      <td>0</td>\n",
       "      <td>0</td>\n",
       "      <td>2</td>\n",
       "      <td>1</td>\n",
       "      <td>0.157696</td>\n",
       "      <td>0.130584</td>\n",
       "      <td>3</td>\n",
       "      <td>0</td>\n",
       "    </tr>\n",
       "    <tr>\n",
       "      <th>1881</th>\n",
       "      <td>1</td>\n",
       "      <td>0.755859</td>\n",
       "      <td>0</td>\n",
       "      <td>0</td>\n",
       "      <td>1</td>\n",
       "      <td>3</td>\n",
       "      <td>1</td>\n",
       "      <td>0.348260</td>\n",
       "      <td>0.295533</td>\n",
       "      <td>0</td>\n",
       "      <td>0</td>\n",
       "    </tr>\n",
       "    <tr>\n",
       "      <th>2756</th>\n",
       "      <td>0</td>\n",
       "      <td>0.499512</td>\n",
       "      <td>0</td>\n",
       "      <td>0</td>\n",
       "      <td>0</td>\n",
       "      <td>2</td>\n",
       "      <td>1</td>\n",
       "      <td>0.142692</td>\n",
       "      <td>0.184422</td>\n",
       "      <td>2</td>\n",
       "      <td>0</td>\n",
       "    </tr>\n",
       "    <tr>\n",
       "      <th>4099</th>\n",
       "      <td>1</td>\n",
       "      <td>0.975586</td>\n",
       "      <td>0</td>\n",
       "      <td>0</td>\n",
       "      <td>0</td>\n",
       "      <td>2</td>\n",
       "      <td>1</td>\n",
       "      <td>0.020174</td>\n",
       "      <td>0.175258</td>\n",
       "      <td>0</td>\n",
       "      <td>0</td>\n",
       "    </tr>\n",
       "  </tbody>\n",
       "</table>\n",
       "</div>"
      ],
      "text/plain": [
       "      gender       age  hypertension  heart_disease  ever_married  work_type  \\\n",
       "1296       1  0.536133             0              0             1          2   \n",
       "2465       0  0.316406             0              0             0          2   \n",
       "1881       1  0.755859             0              0             1          3   \n",
       "2756       0  0.499512             0              0             0          2   \n",
       "4099       1  0.975586             0              0             0          2   \n",
       "\n",
       "      Residence_type  avg_glucose_level       bmi  smoking_status  stroke  \n",
       "1296               0           0.294940  0.219931               2       0  \n",
       "2465               1           0.157696  0.130584               3       0  \n",
       "1881               1           0.348260  0.295533               0       0  \n",
       "2756               1           0.142692  0.184422               2       0  \n",
       "4099               1           0.020174  0.175258               0       0  "
      ]
     },
     "execution_count": 44,
     "metadata": {},
     "output_type": "execute_result"
    }
   ],
   "source": [
    "df1.sample(5)"
   ]
  },
  {
   "cell_type": "code",
   "execution_count": 45,
   "id": "27252236",
   "metadata": {},
   "outputs": [
    {
     "data": {
      "text/plain": [
       "stroke               1.000000\n",
       "age                  0.245257\n",
       "heart_disease        0.134914\n",
       "avg_glucose_level    0.131945\n",
       "hypertension         0.127904\n",
       "bmi                  0.038947\n",
       "Name: stroke, dtype: float64"
      ]
     },
     "execution_count": 45,
     "metadata": {},
     "output_type": "execute_result"
    }
   ],
   "source": [
    "corr = df.corr()\n",
    "corr['stroke'].sort_values(ascending=False)"
   ]
  },
  {
   "cell_type": "code",
   "execution_count": 46,
   "id": "29220392",
   "metadata": {},
   "outputs": [
    {
     "data": {
      "text/plain": [
       "array([1, 0], dtype=int64)"
      ]
     },
     "execution_count": 46,
     "metadata": {},
     "output_type": "execute_result"
    }
   ],
   "source": [
    "df1.stroke.unique()"
   ]
  },
  {
   "cell_type": "code",
   "execution_count": 47,
   "id": "1933aec0",
   "metadata": {},
   "outputs": [],
   "source": [
    "X = df1.drop('stroke', axis='columns')\n",
    "y = df1.stroke"
   ]
  },
  {
   "cell_type": "code",
   "execution_count": 66,
   "id": "1b00fcd4",
   "metadata": {},
   "outputs": [
    {
     "data": {
      "text/plain": [
       "(4861, 249)"
      ]
     },
     "execution_count": 66,
     "metadata": {},
     "output_type": "execute_result"
    }
   ],
   "source": [
    "y[y==0].count(), y[y==1].count() #Imbalanced data here"
   ]
  },
  {
   "cell_type": "code",
   "execution_count": 70,
   "id": "4e979f56",
   "metadata": {},
   "outputs": [],
   "source": [
    "#fixing the imbalance with SMOTE\n",
    "from imblearn.over_sampling import SMOTE\n",
    "smote = SMOTE(sampling_strategy=\"minority\")\n",
    "X_sm,y_sm = smote.fit_resample(X,y)"
   ]
  },
  {
   "cell_type": "code",
   "execution_count": 71,
   "id": "e9c05bd8",
   "metadata": {},
   "outputs": [
    {
     "data": {
      "text/plain": [
       "(4861, 4861)"
      ]
     },
     "execution_count": 71,
     "metadata": {},
     "output_type": "execute_result"
    }
   ],
   "source": [
    "y_sm[y_sm==0].count(), y_sm[y_sm==1].count()"
   ]
  },
  {
   "cell_type": "code",
   "execution_count": 72,
   "id": "c9575868",
   "metadata": {},
   "outputs": [],
   "source": [
    "from sklearn.model_selection import train_test_split\n",
    "X_train,X_test,y_train,y_test = train_test_split(X_sm,y_sm,test_size=0.2, random_state=100)"
   ]
  },
  {
   "cell_type": "code",
   "execution_count": 73,
   "id": "a11051ef",
   "metadata": {},
   "outputs": [
    {
     "data": {
      "text/plain": [
       "(7777, 10)"
      ]
     },
     "execution_count": 73,
     "metadata": {},
     "output_type": "execute_result"
    }
   ],
   "source": [
    "X_train.shape"
   ]
  },
  {
   "cell_type": "code",
   "execution_count": 74,
   "id": "15f34bd4",
   "metadata": {},
   "outputs": [],
   "source": [
    "import tensorflow as tf\n",
    "from tensorflow import keras"
   ]
  },
  {
   "cell_type": "code",
   "execution_count": 75,
   "id": "8a847107",
   "metadata": {},
   "outputs": [
    {
     "name": "stdout",
     "output_type": "stream",
     "text": [
      "Epoch 1/100\n",
      "244/244 [==============================] - 1s 2ms/step - loss: 0.6039 - accuracy: 0.6632\n",
      "Epoch 2/100\n",
      "244/244 [==============================] - 1s 2ms/step - loss: 0.4905 - accuracy: 0.7705\n",
      "Epoch 3/100\n",
      "244/244 [==============================] - 0s 2ms/step - loss: 0.4609 - accuracy: 0.7876\n",
      "Epoch 4/100\n",
      "244/244 [==============================] - 0s 2ms/step - loss: 0.4501 - accuracy: 0.7918\n",
      "Epoch 5/100\n",
      "244/244 [==============================] - 1s 2ms/step - loss: 0.4401 - accuracy: 0.7967\n",
      "Epoch 6/100\n",
      "244/244 [==============================] - 1s 2ms/step - loss: 0.4370 - accuracy: 0.8002\n",
      "Epoch 7/100\n",
      "244/244 [==============================] - 1s 2ms/step - loss: 0.4287 - accuracy: 0.8070\n",
      "Epoch 8/100\n",
      "244/244 [==============================] - 0s 2ms/step - loss: 0.4267 - accuracy: 0.8020\n",
      "Epoch 9/100\n",
      "244/244 [==============================] - 1s 2ms/step - loss: 0.4258 - accuracy: 0.8033\n",
      "Epoch 10/100\n",
      "244/244 [==============================] - 0s 2ms/step - loss: 0.4219 - accuracy: 0.8048\n",
      "Epoch 11/100\n",
      "244/244 [==============================] - 1s 2ms/step - loss: 0.4222 - accuracy: 0.8075\n",
      "Epoch 12/100\n",
      "244/244 [==============================] - 1s 2ms/step - loss: 0.4170 - accuracy: 0.8052\n",
      "Epoch 13/100\n",
      "244/244 [==============================] - 1s 2ms/step - loss: 0.4141 - accuracy: 0.8087\n",
      "Epoch 14/100\n",
      "244/244 [==============================] - 0s 2ms/step - loss: 0.4103 - accuracy: 0.8159\n",
      "Epoch 15/100\n",
      "244/244 [==============================] - 0s 2ms/step - loss: 0.4084 - accuracy: 0.8173\n",
      "Epoch 16/100\n",
      "244/244 [==============================] - 1s 2ms/step - loss: 0.4114 - accuracy: 0.8109\n",
      "Epoch 17/100\n",
      "244/244 [==============================] - 0s 2ms/step - loss: 0.4137 - accuracy: 0.8069\n",
      "Epoch 18/100\n",
      "244/244 [==============================] - 1s 2ms/step - loss: 0.4056 - accuracy: 0.8139\n",
      "Epoch 19/100\n",
      "244/244 [==============================] - 1s 2ms/step - loss: 0.4022 - accuracy: 0.8150\n",
      "Epoch 20/100\n",
      "244/244 [==============================] - 0s 2ms/step - loss: 0.4002 - accuracy: 0.8143\n",
      "Epoch 21/100\n",
      "244/244 [==============================] - 1s 2ms/step - loss: 0.3956 - accuracy: 0.8199\n",
      "Epoch 22/100\n",
      "244/244 [==============================] - 0s 2ms/step - loss: 0.3966 - accuracy: 0.8199\n",
      "Epoch 23/100\n",
      "244/244 [==============================] - 1s 2ms/step - loss: 0.3917 - accuracy: 0.8222\n",
      "Epoch 24/100\n",
      "244/244 [==============================] - 1s 2ms/step - loss: 0.3935 - accuracy: 0.8246\n",
      "Epoch 25/100\n",
      "244/244 [==============================] - 0s 2ms/step - loss: 0.3911 - accuracy: 0.8250\n",
      "Epoch 26/100\n",
      "244/244 [==============================] - 1s 2ms/step - loss: 0.3894 - accuracy: 0.8249\n",
      "Epoch 27/100\n",
      "244/244 [==============================] - 1s 2ms/step - loss: 0.3886 - accuracy: 0.8262\n",
      "Epoch 28/100\n",
      "244/244 [==============================] - 1s 2ms/step - loss: 0.3897 - accuracy: 0.8233\n",
      "Epoch 29/100\n",
      "244/244 [==============================] - 1s 2ms/step - loss: 0.3852 - accuracy: 0.8259\n",
      "Epoch 30/100\n",
      "244/244 [==============================] - 1s 2ms/step - loss: 0.3839 - accuracy: 0.8246\n",
      "Epoch 31/100\n",
      "244/244 [==============================] - 1s 2ms/step - loss: 0.3845 - accuracy: 0.8255\n",
      "Epoch 32/100\n",
      "244/244 [==============================] - 1s 2ms/step - loss: 0.3789 - accuracy: 0.8299\n",
      "Epoch 33/100\n",
      "244/244 [==============================] - 1s 2ms/step - loss: 0.3775 - accuracy: 0.8295\n",
      "Epoch 34/100\n",
      "244/244 [==============================] - 1s 2ms/step - loss: 0.3749 - accuracy: 0.8283\n",
      "Epoch 35/100\n",
      "244/244 [==============================] - 0s 2ms/step - loss: 0.3746 - accuracy: 0.8327\n",
      "Epoch 36/100\n",
      "244/244 [==============================] - 1s 2ms/step - loss: 0.3760 - accuracy: 0.8319\n",
      "Epoch 37/100\n",
      "244/244 [==============================] - 1s 2ms/step - loss: 0.3896 - accuracy: 0.8187\n",
      "Epoch 38/100\n",
      "244/244 [==============================] - 1s 2ms/step - loss: 0.3783 - accuracy: 0.8303\n",
      "Epoch 39/100\n",
      "244/244 [==============================] - 1s 2ms/step - loss: 0.3727 - accuracy: 0.8322\n",
      "Epoch 40/100\n",
      "244/244 [==============================] - 1s 2ms/step - loss: 0.3725 - accuracy: 0.8361\n",
      "Epoch 41/100\n",
      "244/244 [==============================] - 1s 2ms/step - loss: 0.3679 - accuracy: 0.8361\n",
      "Epoch 42/100\n",
      "244/244 [==============================] - 1s 2ms/step - loss: 0.3677 - accuracy: 0.8346\n",
      "Epoch 43/100\n",
      "244/244 [==============================] - 1s 2ms/step - loss: 0.3713 - accuracy: 0.8336\n",
      "Epoch 44/100\n",
      "244/244 [==============================] - 1s 2ms/step - loss: 0.3630 - accuracy: 0.8395\n",
      "Epoch 45/100\n",
      "244/244 [==============================] - 1s 2ms/step - loss: 0.3605 - accuracy: 0.8397\n",
      "Epoch 46/100\n",
      "244/244 [==============================] - 1s 2ms/step - loss: 0.3619 - accuracy: 0.8411\n",
      "Epoch 47/100\n",
      "244/244 [==============================] - 1s 2ms/step - loss: 0.3632 - accuracy: 0.8386\n",
      "Epoch 48/100\n",
      "244/244 [==============================] - 1s 2ms/step - loss: 0.3630 - accuracy: 0.8379\n",
      "Epoch 49/100\n",
      "244/244 [==============================] - 1s 2ms/step - loss: 0.3603 - accuracy: 0.8433\n",
      "Epoch 50/100\n",
      "244/244 [==============================] - 1s 2ms/step - loss: 0.3686 - accuracy: 0.8359\n",
      "Epoch 51/100\n",
      "244/244 [==============================] - 1s 2ms/step - loss: 0.3552 - accuracy: 0.8413\n",
      "Epoch 52/100\n",
      "244/244 [==============================] - 1s 2ms/step - loss: 0.3576 - accuracy: 0.8382\n",
      "Epoch 53/100\n",
      "244/244 [==============================] - 1s 2ms/step - loss: 0.3548 - accuracy: 0.8462\n",
      "Epoch 54/100\n",
      "244/244 [==============================] - 1s 2ms/step - loss: 0.3546 - accuracy: 0.8452\n",
      "Epoch 55/100\n",
      "244/244 [==============================] - 0s 2ms/step - loss: 0.3541 - accuracy: 0.8445\n",
      "Epoch 56/100\n",
      "244/244 [==============================] - 1s 2ms/step - loss: 0.3590 - accuracy: 0.8393\n",
      "Epoch 57/100\n",
      "244/244 [==============================] - 1s 2ms/step - loss: 0.3515 - accuracy: 0.8439\n",
      "Epoch 58/100\n",
      "244/244 [==============================] - 1s 2ms/step - loss: 0.3487 - accuracy: 0.8467\n",
      "Epoch 59/100\n",
      "244/244 [==============================] - 1s 2ms/step - loss: 0.3566 - accuracy: 0.8436\n",
      "Epoch 60/100\n",
      "244/244 [==============================] - 1s 2ms/step - loss: 0.3536 - accuracy: 0.8433\n",
      "Epoch 61/100\n",
      "244/244 [==============================] - 1s 2ms/step - loss: 0.3462 - accuracy: 0.8525\n",
      "Epoch 62/100\n",
      "244/244 [==============================] - 1s 2ms/step - loss: 0.3481 - accuracy: 0.8475\n",
      "Epoch 63/100\n",
      "244/244 [==============================] - 0s 2ms/step - loss: 0.3479 - accuracy: 0.8488\n",
      "Epoch 64/100\n",
      "244/244 [==============================] - 1s 2ms/step - loss: 0.3426 - accuracy: 0.8462\n",
      "Epoch 65/100\n",
      "244/244 [==============================] - 0s 2ms/step - loss: 0.3485 - accuracy: 0.8460\n",
      "Epoch 66/100\n",
      "244/244 [==============================] - 1s 2ms/step - loss: 0.3473 - accuracy: 0.8460\n",
      "Epoch 67/100\n",
      "244/244 [==============================] - 1s 2ms/step - loss: 0.3410 - accuracy: 0.8502\n",
      "Epoch 68/100\n",
      "244/244 [==============================] - 1s 2ms/step - loss: 0.3431 - accuracy: 0.8465\n",
      "Epoch 69/100\n",
      "244/244 [==============================] - 1s 2ms/step - loss: 0.3385 - accuracy: 0.8543\n",
      "Epoch 70/100\n",
      "244/244 [==============================] - 1s 2ms/step - loss: 0.3453 - accuracy: 0.8479\n",
      "Epoch 71/100\n",
      "244/244 [==============================] - 1s 2ms/step - loss: 0.3416 - accuracy: 0.8547\n",
      "Epoch 72/100\n",
      "244/244 [==============================] - 1s 2ms/step - loss: 0.3404 - accuracy: 0.8471\n",
      "Epoch 73/100\n",
      "244/244 [==============================] - 1s 2ms/step - loss: 0.3396 - accuracy: 0.8523\n",
      "Epoch 74/100\n",
      "244/244 [==============================] - 1s 2ms/step - loss: 0.3345 - accuracy: 0.8546\n",
      "Epoch 75/100\n",
      "244/244 [==============================] - 1s 2ms/step - loss: 0.3353 - accuracy: 0.8564\n",
      "Epoch 76/100\n",
      "244/244 [==============================] - 1s 2ms/step - loss: 0.3368 - accuracy: 0.8512\n",
      "Epoch 77/100\n",
      "244/244 [==============================] - 1s 2ms/step - loss: 0.3330 - accuracy: 0.8516\n",
      "Epoch 78/100\n",
      "244/244 [==============================] - 1s 2ms/step - loss: 0.3379 - accuracy: 0.8532\n",
      "Epoch 79/100\n",
      "244/244 [==============================] - 1s 2ms/step - loss: 0.3323 - accuracy: 0.8544\n",
      "Epoch 80/100\n",
      "244/244 [==============================] - 0s 2ms/step - loss: 0.3334 - accuracy: 0.8551\n",
      "Epoch 81/100\n"
     ]
    },
    {
     "name": "stdout",
     "output_type": "stream",
     "text": [
      "244/244 [==============================] - 1s 2ms/step - loss: 0.3311 - accuracy: 0.8521\n",
      "Epoch 82/100\n",
      "244/244 [==============================] - 1s 2ms/step - loss: 0.3294 - accuracy: 0.8556\n",
      "Epoch 83/100\n",
      "244/244 [==============================] - 1s 2ms/step - loss: 0.3351 - accuracy: 0.8534\n",
      "Epoch 84/100\n",
      "244/244 [==============================] - 0s 2ms/step - loss: 0.3329 - accuracy: 0.8564\n",
      "Epoch 85/100\n",
      "244/244 [==============================] - 1s 2ms/step - loss: 0.3318 - accuracy: 0.8568\n",
      "Epoch 86/100\n",
      "244/244 [==============================] - 0s 2ms/step - loss: 0.3367 - accuracy: 0.8538\n",
      "Epoch 87/100\n",
      "244/244 [==============================] - 1s 2ms/step - loss: 0.3349 - accuracy: 0.8499\n",
      "Epoch 88/100\n",
      "244/244 [==============================] - 0s 2ms/step - loss: 0.3317 - accuracy: 0.8528\n",
      "Epoch 89/100\n",
      "244/244 [==============================] - 1s 2ms/step - loss: 0.3307 - accuracy: 0.8552\n",
      "Epoch 90/100\n",
      "244/244 [==============================] - 0s 2ms/step - loss: 0.3278 - accuracy: 0.8561\n",
      "Epoch 91/100\n",
      "244/244 [==============================] - 1s 2ms/step - loss: 0.3318 - accuracy: 0.8561\n",
      "Epoch 92/100\n",
      "244/244 [==============================] - 0s 2ms/step - loss: 0.3277 - accuracy: 0.8588\n",
      "Epoch 93/100\n",
      "244/244 [==============================] - 1s 2ms/step - loss: 0.3264 - accuracy: 0.8561\n",
      "Epoch 94/100\n",
      "244/244 [==============================] - 0s 2ms/step - loss: 0.3234 - accuracy: 0.8569\n",
      "Epoch 95/100\n",
      "244/244 [==============================] - 1s 2ms/step - loss: 0.3262 - accuracy: 0.8591\n",
      "Epoch 96/100\n",
      "244/244 [==============================] - 0s 2ms/step - loss: 0.3294 - accuracy: 0.8562\n",
      "Epoch 97/100\n",
      "244/244 [==============================] - 0s 2ms/step - loss: 0.3252 - accuracy: 0.8578\n",
      "Epoch 98/100\n",
      "244/244 [==============================] - 0s 2ms/step - loss: 0.3273 - accuracy: 0.8530\n",
      "Epoch 99/100\n",
      "244/244 [==============================] - 1s 2ms/step - loss: 0.3266 - accuracy: 0.8586\n",
      "Epoch 100/100\n",
      "244/244 [==============================] - 0s 2ms/step - loss: 0.3246 - accuracy: 0.8605\n"
     ]
    },
    {
     "data": {
      "text/plain": [
       "<keras.callbacks.History at 0x1f0593e7160>"
      ]
     },
     "execution_count": 75,
     "metadata": {},
     "output_type": "execute_result"
    }
   ],
   "source": [
    "model = keras.Sequential([\n",
    "    keras.layers.Dense(10, input_shape=(10,), activation='relu'),\n",
    "    keras.layers.Dense(300, activation='relu'),\n",
    "    keras.layers.Dropout(rate=0.4),\n",
    "    keras.layers.Dense(100, activation='relu'),\n",
    "    keras.layers.Dropout(rate=0.4),\n",
    "    keras.layers.Dense(1, activation='sigmoid'),\n",
    "])\n",
    "\n",
    "tb_callback=tf.keras.callbacks.TensorBoard(log_dir=\"logs/\", histogram_freq=1)\n",
    "\n",
    "model.compile(optimizer='adam',\n",
    "             loss='binary_crossentropy',\n",
    "             metrics=['accuracy'])\n",
    "model.fit(X_train,y_train, epochs=100, callbacks=[tb_callback])"
   ]
  },
  {
   "cell_type": "code",
   "execution_count": 76,
   "id": "33487e53",
   "metadata": {},
   "outputs": [
    {
     "name": "stdout",
     "output_type": "stream",
     "text": [
      "61/61 [==============================] - 0s 1ms/step - loss: 0.3530 - accuracy: 0.8432\n"
     ]
    },
    {
     "data": {
      "text/plain": [
       "[0.35302266478538513, 0.843187689781189]"
      ]
     },
     "execution_count": 76,
     "metadata": {},
     "output_type": "execute_result"
    }
   ],
   "source": [
    "model.evaluate(X_test,y_test)"
   ]
  },
  {
   "cell_type": "code",
   "execution_count": 77,
   "id": "4c3c1262",
   "metadata": {},
   "outputs": [
    {
     "data": {
      "text/plain": [
       "array([[1.1879325e-04],\n",
       "       [7.1330512e-01],\n",
       "       [7.8830636e-01],\n",
       "       [9.2207384e-01],\n",
       "       [8.9750642e-01]], dtype=float32)"
      ]
     },
     "execution_count": 77,
     "metadata": {},
     "output_type": "execute_result"
    }
   ],
   "source": [
    "y_pred = model.predict(X_test)\n",
    "y_pred[:5]"
   ]
  },
  {
   "cell_type": "code",
   "execution_count": 78,
   "id": "d13a2a24",
   "metadata": {},
   "outputs": [],
   "source": [
    "y_predicted = []\n",
    "for i in y_pred:\n",
    "    if i>0.5:\n",
    "        y_predicted.append(1)\n",
    "    else:\n",
    "        y_predicted.append(0)"
   ]
  },
  {
   "cell_type": "code",
   "execution_count": 79,
   "id": "c315e0cf",
   "metadata": {},
   "outputs": [
    {
     "name": "stdout",
     "output_type": "stream",
     "text": [
      "              precision    recall  f1-score   support\n",
      "\n",
      "           0       0.91      0.77      0.83       977\n",
      "           1       0.80      0.92      0.85       968\n",
      "\n",
      "    accuracy                           0.84      1945\n",
      "   macro avg       0.85      0.84      0.84      1945\n",
      "weighted avg       0.85      0.84      0.84      1945\n",
      "\n"
     ]
    }
   ],
   "source": [
    "from sklearn.metrics import classification_report\n",
    "\n",
    "print(classification_report(y_test,y_predicted))"
   ]
  },
  {
   "cell_type": "code",
   "execution_count": 80,
   "id": "51f3d840",
   "metadata": {},
   "outputs": [],
   "source": [
    "cm = tf.math.confusion_matrix(labels=y_test, predictions=y_predicted)"
   ]
  },
  {
   "cell_type": "code",
   "execution_count": 81,
   "id": "6f8f710a",
   "metadata": {},
   "outputs": [],
   "source": [
    "import seaborn as sn\n",
    "import matplotlib.pyplot as plt\n",
    "%matplotlib inline"
   ]
  },
  {
   "cell_type": "code",
   "execution_count": 82,
   "id": "5b8bb7a2",
   "metadata": {},
   "outputs": [
    {
     "data": {
      "text/plain": [
       "Text(69.0, 0.5, 'Truth')"
      ]
     },
     "execution_count": 82,
     "metadata": {},
     "output_type": "execute_result"
    },
    {
     "data": {
      "image/png": "[encoded data removed]",
      "text/plain": [
       "<Figure size 720x576 with 2 Axes>"
      ]
     },
     "metadata": {
      "needs_background": "light"
     },
     "output_type": "display_data"
    }
   ],
   "source": [
    "plt.figure(figsize=(10,8))\n",
    "sn.heatmap(cm, annot=True, fmt='d')\n",
    "plt.xlabel(\"Predictions\")\n",
    "plt.ylabel(\"Truth\")"
   ]
  },
  {
   "cell_type": "code",
   "execution_count": null,
   "id": "1c46d753",
   "metadata": {},
   "outputs": [],
   "source": []
  }
 ],
 "metadata": {
  "kernelspec": {
   "display_name": "Python 3 (ipykernel)",
   "language": "python",
   "name": "python3"
  },
  "language_info": {
   "codemirror_mode": {
    "name": "ipython",
    "version": 3
   },
   "file_extension": ".py",
   "mimetype": "text/x-python",
   "name": "python",
   "nbconvert_exporter": "python",
   "pygments_lexer": "ipython3",
   "version": "3.9.7"
  }
 },
 "nbformat": 4,
 "nbformat_minor": 5
}
